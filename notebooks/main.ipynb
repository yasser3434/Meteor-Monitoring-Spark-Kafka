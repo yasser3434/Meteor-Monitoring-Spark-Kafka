{
 "cells": [
  {
   "cell_type": "code",
   "execution_count": 2,
   "id": "709169cd",
   "metadata": {},
   "outputs": [],
   "source": [
    "import random\n",
    "import time"
   ]
  },
  {
   "cell_type": "code",
   "execution_count": null,
   "id": "eef8b74d",
   "metadata": {},
   "outputs": [],
   "source": [
    "{\n",
    "\"type\": \"astéroïde\"\n",
    "}"
   ]
  },
  {
   "cell_type": "code",
   "execution_count": 4,
   "id": "c289c9a8",
   "metadata": {},
   "outputs": [],
   "source": [
    "def generate_meteor_data():\n",
    "    meteor_id = f\"meteor_{random.randint(10000, 99999)}\"\n",
    "    timestamp = int(time.time())\n",
    "    position = {\n",
    "        \"x\" : round(random.uniform(-500, 500), 2),\n",
    "        \"y\" : round(random.uniform(-500, 500), 2),\n",
    "        \"z\" : round(random.uniform(0, 1000), 2)\n",
    "    }\n",
    "    speed = round(random.uniform(5, 50), 1)\n",
    "    size = round(random.uniform(5, 50), 1)\n",
    "    meteor_type = random.choice([\"asteroide\", \"comete\", \"bolide\"])\n",
    "\n",
    "    return {\n",
    "        \"id\": meteor_id,\n",
    "        \"timestamp\": timestamp,\n",
    "        \"position\" : position,\n",
    "        \"vitesse\": speed,\n",
    "        \"taille\": size,\n",
    "        \"type\": meteor_type\n",
    "    }\n"
   ]
  },
  {
   "cell_type": "code",
   "execution_count": 5,
   "id": "b2610567",
   "metadata": {},
   "outputs": [
    {
     "data": {
      "text/plain": [
       "{'id': 'meteor_35888',\n",
       " 'timestamp': 1744188610,\n",
       " 'position': {'x': 181.97, 'y': 216.54, 'z': 447.8},\n",
       " 'vitesse': 10.7,\n",
       " 'taille': 39.9,\n",
       " 'type': 'asteroide'}"
      ]
     },
     "execution_count": 5,
     "metadata": {},
     "output_type": "execute_result"
    }
   ],
   "source": [
    "generate_meteor_data()"
   ]
  }
 ],
 "metadata": {
  "kernelspec": {
   "display_name": ".venv",
   "language": "python",
   "name": "python3"
  },
  "language_info": {
   "codemirror_mode": {
    "name": "ipython",
    "version": 3
   },
   "file_extension": ".py",
   "mimetype": "text/x-python",
   "name": "python",
   "nbconvert_exporter": "python",
   "pygments_lexer": "ipython3",
   "version": "3.11.11"
  }
 },
 "nbformat": 4,
 "nbformat_minor": 5
}
